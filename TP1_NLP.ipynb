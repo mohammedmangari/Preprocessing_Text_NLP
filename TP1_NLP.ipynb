{
  "nbformat": 4,
  "nbformat_minor": 0,
  "metadata": {
    "colab": {
      "provenance": [],
      "authorship_tag": "ABX9TyMHoVtBVia98YCMr7A+b9E6",
      "include_colab_link": true
    },
    "kernelspec": {
      "name": "python3",
      "display_name": "Python 3"
    },
    "language_info": {
      "name": "python"
    }
  },
  "cells": [
    {
      "cell_type": "markdown",
      "metadata": {
        "id": "view-in-github",
        "colab_type": "text"
      },
      "source": [
        "<a href=\"https://colab.research.google.com/github/mohammedmangari/Preprocessing_Text_NLP/blob/main/TP1_NLP.ipynb\" target=\"_parent\"><img src=\"https://colab.research.google.com/assets/colab-badge.svg\" alt=\"Open In Colab\"/></a>"
      ]
    },
    {
      "cell_type": "code",
      "execution_count": 2,
      "metadata": {
        "colab": {
          "base_uri": "https://localhost:8080/"
        },
        "id": "adA3TvEbxCPR",
        "outputId": "199c8fe7-be45-4813-d068-8617871217f9"
      },
      "outputs": [
        {
          "output_type": "stream",
          "name": "stdout",
          "text": [
            "Requirement already satisfied: kaggle in /usr/local/lib/python3.10/dist-packages (1.5.16)\n",
            "Requirement already satisfied: six>=1.10 in /usr/local/lib/python3.10/dist-packages (from kaggle) (1.16.0)\n",
            "Requirement already satisfied: certifi in /usr/local/lib/python3.10/dist-packages (from kaggle) (2023.7.22)\n",
            "Requirement already satisfied: python-dateutil in /usr/local/lib/python3.10/dist-packages (from kaggle) (2.8.2)\n",
            "Requirement already satisfied: requests in /usr/local/lib/python3.10/dist-packages (from kaggle) (2.31.0)\n",
            "Requirement already satisfied: tqdm in /usr/local/lib/python3.10/dist-packages (from kaggle) (4.66.1)\n",
            "Requirement already satisfied: python-slugify in /usr/local/lib/python3.10/dist-packages (from kaggle) (8.0.1)\n",
            "Requirement already satisfied: urllib3 in /usr/local/lib/python3.10/dist-packages (from kaggle) (2.0.6)\n",
            "Requirement already satisfied: bleach in /usr/local/lib/python3.10/dist-packages (from kaggle) (6.1.0)\n",
            "Requirement already satisfied: webencodings in /usr/local/lib/python3.10/dist-packages (from bleach->kaggle) (0.5.1)\n",
            "Requirement already satisfied: text-unidecode>=1.3 in /usr/local/lib/python3.10/dist-packages (from python-slugify->kaggle) (1.3)\n",
            "Requirement already satisfied: charset-normalizer<4,>=2 in /usr/local/lib/python3.10/dist-packages (from requests->kaggle) (3.3.0)\n",
            "Requirement already satisfied: idna<4,>=2.5 in /usr/local/lib/python3.10/dist-packages (from requests->kaggle) (3.4)\n"
          ]
        }
      ],
      "source": [
        "!pip install kaggle\n",
        "!mkdir -p ~/.kaggle\n",
        "!cp kaggle.json ~/.kaggle/\n",
        "!chmod 600 ~/.kaggle/kaggle.json"
      ]
    },
    {
      "cell_type": "code",
      "source": [
        "!kaggle datasets download -d thoughtvector/customer-support-on-twitter"
      ],
      "metadata": {
        "colab": {
          "base_uri": "https://localhost:8080/"
        },
        "id": "RKQyeFhTxHAM",
        "outputId": "0db8e4bf-18a0-433d-e810-b1668a0193a2"
      },
      "execution_count": 3,
      "outputs": [
        {
          "output_type": "stream",
          "name": "stdout",
          "text": [
            "Downloading customer-support-on-twitter.zip to /content\n",
            "100% 168M/169M [00:00<00:00, 217MB/s]\n",
            "100% 169M/169M [00:00<00:00, 210MB/s]\n"
          ]
        }
      ]
    },
    {
      "cell_type": "code",
      "source": [
        "!unzip /content/customer-support-on-twitter.zip"
      ],
      "metadata": {
        "colab": {
          "base_uri": "https://localhost:8080/"
        },
        "id": "5Ps9wXryxT8c",
        "outputId": "e8501bf8-0446-47a2-91b7-d4dfb796bfe9"
      },
      "execution_count": 4,
      "outputs": [
        {
          "output_type": "stream",
          "name": "stdout",
          "text": [
            "Archive:  /content/customer-support-on-twitter.zip\n",
            "  inflating: sample.csv              \n",
            "  inflating: twcs/twcs.csv           \n"
          ]
        }
      ]
    },
    {
      "cell_type": "code",
      "source": [
        "!kaggle datasets download -d thoughtvector/customer-support-on-twitter"
      ],
      "metadata": {
        "colab": {
          "base_uri": "https://localhost:8080/"
        },
        "id": "2dvTQUDnxXBb",
        "outputId": "91ddec1a-61b8-4fd0-a620-880d2d7b7f1d"
      },
      "execution_count": 5,
      "outputs": [
        {
          "output_type": "stream",
          "name": "stdout",
          "text": [
            "customer-support-on-twitter.zip: Skipping, found more recently modified local copy (use --force to force download)\n"
          ]
        }
      ]
    },
    {
      "cell_type": "code",
      "source": [
        "import pandas as pd\n",
        "import numpy as np\n",
        "import matplotlib.pyplot as plt"
      ],
      "metadata": {
        "id": "_bygpry6xZai"
      },
      "execution_count": 78,
      "outputs": []
    },
    {
      "cell_type": "code",
      "source": [
        "df = pd.read_csv('/content/sample.csv')\n",
        "df"
      ],
      "metadata": {
        "colab": {
          "base_uri": "https://localhost:8080/",
          "height": 424
        },
        "id": "AlNNNtb2xg6U",
        "outputId": "5f32a2cd-db31-4ae1-afb6-08fa29f567f6"
      },
      "execution_count": 79,
      "outputs": [
        {
          "output_type": "execute_result",
          "data": {
            "text/plain": [
              "    tweet_id     author_id  inbound                      created_at  \\\n",
              "0     119237        105834     True  Wed Oct 11 06:55:44 +0000 2017   \n",
              "1     119238  ChaseSupport    False  Wed Oct 11 13:25:49 +0000 2017   \n",
              "2     119239        105835     True  Wed Oct 11 13:00:09 +0000 2017   \n",
              "3     119240  VirginTrains    False  Tue Oct 10 15:16:08 +0000 2017   \n",
              "4     119241        105836     True  Tue Oct 10 15:17:21 +0000 2017   \n",
              "..       ...           ...      ...                             ...   \n",
              "88    119330        105859     True  Wed Oct 11 13:50:42 +0000 2017   \n",
              "89    119331        105860     True  Wed Oct 11 13:47:14 +0000 2017   \n",
              "90    119332         Tesco    False  Wed Oct 11 13:34:06 +0000 2017   \n",
              "91    119333        105861     True  Wed Oct 11 14:05:18 +0000 2017   \n",
              "92    119335         Tesco    False  Wed Oct 11 15:38:07 +0000 2017   \n",
              "\n",
              "                                                 text response_tweet_id  \\\n",
              "0   @AppleSupport causing the reply to be disregar...            119236   \n",
              "1   @105835 Your business means a lot to us. Pleas...               NaN   \n",
              "2   @76328 I really hope you all change but I'm su...            119238   \n",
              "3   @105836 LiveChat is online at the moment - htt...            119241   \n",
              "4   @VirginTrains see attached error message. I've...            119243   \n",
              "..                                                ...               ...   \n",
              "88  @105860 I wish Amazon had an option of where I...            119329   \n",
              "89  They reschedule my shit for tomorrow https://t...            119330   \n",
              "90  @105861 Hey Sara, sorry to hear of the issues ...            119333   \n",
              "91  @Tesco bit of both - finding the layout cumber...     119335,119336   \n",
              "92  @105861 If that doesn't help please DM your fu...               NaN   \n",
              "\n",
              "    in_response_to_tweet_id  \n",
              "0                       NaN  \n",
              "1                  119239.0  \n",
              "2                       NaN  \n",
              "3                  119242.0  \n",
              "4                  119240.0  \n",
              "..                      ...  \n",
              "88                 119331.0  \n",
              "89                      NaN  \n",
              "90                 119334.0  \n",
              "91                 119332.0  \n",
              "92                 119333.0  \n",
              "\n",
              "[93 rows x 7 columns]"
            ],
            "text/html": [
              "\n",
              "  <div id=\"df-29aa6a3f-f50a-4282-935a-ef362e430bc3\" class=\"colab-df-container\">\n",
              "    <div>\n",
              "<style scoped>\n",
              "    .dataframe tbody tr th:only-of-type {\n",
              "        vertical-align: middle;\n",
              "    }\n",
              "\n",
              "    .dataframe tbody tr th {\n",
              "        vertical-align: top;\n",
              "    }\n",
              "\n",
              "    .dataframe thead th {\n",
              "        text-align: right;\n",
              "    }\n",
              "</style>\n",
              "<table border=\"1\" class=\"dataframe\">\n",
              "  <thead>\n",
              "    <tr style=\"text-align: right;\">\n",
              "      <th></th>\n",
              "      <th>tweet_id</th>\n",
              "      <th>author_id</th>\n",
              "      <th>inbound</th>\n",
              "      <th>created_at</th>\n",
              "      <th>text</th>\n",
              "      <th>response_tweet_id</th>\n",
              "      <th>in_response_to_tweet_id</th>\n",
              "    </tr>\n",
              "  </thead>\n",
              "  <tbody>\n",
              "    <tr>\n",
              "      <th>0</th>\n",
              "      <td>119237</td>\n",
              "      <td>105834</td>\n",
              "      <td>True</td>\n",
              "      <td>Wed Oct 11 06:55:44 +0000 2017</td>\n",
              "      <td>@AppleSupport causing the reply to be disregar...</td>\n",
              "      <td>119236</td>\n",
              "      <td>NaN</td>\n",
              "    </tr>\n",
              "    <tr>\n",
              "      <th>1</th>\n",
              "      <td>119238</td>\n",
              "      <td>ChaseSupport</td>\n",
              "      <td>False</td>\n",
              "      <td>Wed Oct 11 13:25:49 +0000 2017</td>\n",
              "      <td>@105835 Your business means a lot to us. Pleas...</td>\n",
              "      <td>NaN</td>\n",
              "      <td>119239.0</td>\n",
              "    </tr>\n",
              "    <tr>\n",
              "      <th>2</th>\n",
              "      <td>119239</td>\n",
              "      <td>105835</td>\n",
              "      <td>True</td>\n",
              "      <td>Wed Oct 11 13:00:09 +0000 2017</td>\n",
              "      <td>@76328 I really hope you all change but I'm su...</td>\n",
              "      <td>119238</td>\n",
              "      <td>NaN</td>\n",
              "    </tr>\n",
              "    <tr>\n",
              "      <th>3</th>\n",
              "      <td>119240</td>\n",
              "      <td>VirginTrains</td>\n",
              "      <td>False</td>\n",
              "      <td>Tue Oct 10 15:16:08 +0000 2017</td>\n",
              "      <td>@105836 LiveChat is online at the moment - htt...</td>\n",
              "      <td>119241</td>\n",
              "      <td>119242.0</td>\n",
              "    </tr>\n",
              "    <tr>\n",
              "      <th>4</th>\n",
              "      <td>119241</td>\n",
              "      <td>105836</td>\n",
              "      <td>True</td>\n",
              "      <td>Tue Oct 10 15:17:21 +0000 2017</td>\n",
              "      <td>@VirginTrains see attached error message. I've...</td>\n",
              "      <td>119243</td>\n",
              "      <td>119240.0</td>\n",
              "    </tr>\n",
              "    <tr>\n",
              "      <th>...</th>\n",
              "      <td>...</td>\n",
              "      <td>...</td>\n",
              "      <td>...</td>\n",
              "      <td>...</td>\n",
              "      <td>...</td>\n",
              "      <td>...</td>\n",
              "      <td>...</td>\n",
              "    </tr>\n",
              "    <tr>\n",
              "      <th>88</th>\n",
              "      <td>119330</td>\n",
              "      <td>105859</td>\n",
              "      <td>True</td>\n",
              "      <td>Wed Oct 11 13:50:42 +0000 2017</td>\n",
              "      <td>@105860 I wish Amazon had an option of where I...</td>\n",
              "      <td>119329</td>\n",
              "      <td>119331.0</td>\n",
              "    </tr>\n",
              "    <tr>\n",
              "      <th>89</th>\n",
              "      <td>119331</td>\n",
              "      <td>105860</td>\n",
              "      <td>True</td>\n",
              "      <td>Wed Oct 11 13:47:14 +0000 2017</td>\n",
              "      <td>They reschedule my shit for tomorrow https://t...</td>\n",
              "      <td>119330</td>\n",
              "      <td>NaN</td>\n",
              "    </tr>\n",
              "    <tr>\n",
              "      <th>90</th>\n",
              "      <td>119332</td>\n",
              "      <td>Tesco</td>\n",
              "      <td>False</td>\n",
              "      <td>Wed Oct 11 13:34:06 +0000 2017</td>\n",
              "      <td>@105861 Hey Sara, sorry to hear of the issues ...</td>\n",
              "      <td>119333</td>\n",
              "      <td>119334.0</td>\n",
              "    </tr>\n",
              "    <tr>\n",
              "      <th>91</th>\n",
              "      <td>119333</td>\n",
              "      <td>105861</td>\n",
              "      <td>True</td>\n",
              "      <td>Wed Oct 11 14:05:18 +0000 2017</td>\n",
              "      <td>@Tesco bit of both - finding the layout cumber...</td>\n",
              "      <td>119335,119336</td>\n",
              "      <td>119332.0</td>\n",
              "    </tr>\n",
              "    <tr>\n",
              "      <th>92</th>\n",
              "      <td>119335</td>\n",
              "      <td>Tesco</td>\n",
              "      <td>False</td>\n",
              "      <td>Wed Oct 11 15:38:07 +0000 2017</td>\n",
              "      <td>@105861 If that doesn't help please DM your fu...</td>\n",
              "      <td>NaN</td>\n",
              "      <td>119333.0</td>\n",
              "    </tr>\n",
              "  </tbody>\n",
              "</table>\n",
              "<p>93 rows × 7 columns</p>\n",
              "</div>\n",
              "    <div class=\"colab-df-buttons\">\n",
              "\n",
              "  <div class=\"colab-df-container\">\n",
              "    <button class=\"colab-df-convert\" onclick=\"convertToInteractive('df-29aa6a3f-f50a-4282-935a-ef362e430bc3')\"\n",
              "            title=\"Convert this dataframe to an interactive table.\"\n",
              "            style=\"display:none;\">\n",
              "\n",
              "  <svg xmlns=\"http://www.w3.org/2000/svg\" height=\"24px\" viewBox=\"0 -960 960 960\">\n",
              "    <path d=\"M120-120v-720h720v720H120Zm60-500h600v-160H180v160Zm220 220h160v-160H400v160Zm0 220h160v-160H400v160ZM180-400h160v-160H180v160Zm440 0h160v-160H620v160ZM180-180h160v-160H180v160Zm440 0h160v-160H620v160Z\"/>\n",
              "  </svg>\n",
              "    </button>\n",
              "\n",
              "  <style>\n",
              "    .colab-df-container {\n",
              "      display:flex;\n",
              "      gap: 12px;\n",
              "    }\n",
              "\n",
              "    .colab-df-convert {\n",
              "      background-color: #E8F0FE;\n",
              "      border: none;\n",
              "      border-radius: 50%;\n",
              "      cursor: pointer;\n",
              "      display: none;\n",
              "      fill: #1967D2;\n",
              "      height: 32px;\n",
              "      padding: 0 0 0 0;\n",
              "      width: 32px;\n",
              "    }\n",
              "\n",
              "    .colab-df-convert:hover {\n",
              "      background-color: #E2EBFA;\n",
              "      box-shadow: 0px 1px 2px rgba(60, 64, 67, 0.3), 0px 1px 3px 1px rgba(60, 64, 67, 0.15);\n",
              "      fill: #174EA6;\n",
              "    }\n",
              "\n",
              "    .colab-df-buttons div {\n",
              "      margin-bottom: 4px;\n",
              "    }\n",
              "\n",
              "    [theme=dark] .colab-df-convert {\n",
              "      background-color: #3B4455;\n",
              "      fill: #D2E3FC;\n",
              "    }\n",
              "\n",
              "    [theme=dark] .colab-df-convert:hover {\n",
              "      background-color: #434B5C;\n",
              "      box-shadow: 0px 1px 3px 1px rgba(0, 0, 0, 0.15);\n",
              "      filter: drop-shadow(0px 1px 2px rgba(0, 0, 0, 0.3));\n",
              "      fill: #FFFFFF;\n",
              "    }\n",
              "  </style>\n",
              "\n",
              "    <script>\n",
              "      const buttonEl =\n",
              "        document.querySelector('#df-29aa6a3f-f50a-4282-935a-ef362e430bc3 button.colab-df-convert');\n",
              "      buttonEl.style.display =\n",
              "        google.colab.kernel.accessAllowed ? 'block' : 'none';\n",
              "\n",
              "      async function convertToInteractive(key) {\n",
              "        const element = document.querySelector('#df-29aa6a3f-f50a-4282-935a-ef362e430bc3');\n",
              "        const dataTable =\n",
              "          await google.colab.kernel.invokeFunction('convertToInteractive',\n",
              "                                                    [key], {});\n",
              "        if (!dataTable) return;\n",
              "\n",
              "        const docLinkHtml = 'Like what you see? Visit the ' +\n",
              "          '<a target=\"_blank\" href=https://colab.research.google.com/notebooks/data_table.ipynb>data table notebook</a>'\n",
              "          + ' to learn more about interactive tables.';\n",
              "        element.innerHTML = '';\n",
              "        dataTable['output_type'] = 'display_data';\n",
              "        await google.colab.output.renderOutput(dataTable, element);\n",
              "        const docLink = document.createElement('div');\n",
              "        docLink.innerHTML = docLinkHtml;\n",
              "        element.appendChild(docLink);\n",
              "      }\n",
              "    </script>\n",
              "  </div>\n",
              "\n",
              "\n",
              "<div id=\"df-cc72a767-1d32-46c2-b4c1-a2a727ceb5e6\">\n",
              "  <button class=\"colab-df-quickchart\" onclick=\"quickchart('df-cc72a767-1d32-46c2-b4c1-a2a727ceb5e6')\"\n",
              "            title=\"Suggest charts.\"\n",
              "            style=\"display:none;\">\n",
              "\n",
              "<svg xmlns=\"http://www.w3.org/2000/svg\" height=\"24px\"viewBox=\"0 0 24 24\"\n",
              "     width=\"24px\">\n",
              "    <g>\n",
              "        <path d=\"M19 3H5c-1.1 0-2 .9-2 2v14c0 1.1.9 2 2 2h14c1.1 0 2-.9 2-2V5c0-1.1-.9-2-2-2zM9 17H7v-7h2v7zm4 0h-2V7h2v10zm4 0h-2v-4h2v4z\"/>\n",
              "    </g>\n",
              "</svg>\n",
              "  </button>\n",
              "\n",
              "<style>\n",
              "  .colab-df-quickchart {\n",
              "      --bg-color: #E8F0FE;\n",
              "      --fill-color: #1967D2;\n",
              "      --hover-bg-color: #E2EBFA;\n",
              "      --hover-fill-color: #174EA6;\n",
              "      --disabled-fill-color: #AAA;\n",
              "      --disabled-bg-color: #DDD;\n",
              "  }\n",
              "\n",
              "  [theme=dark] .colab-df-quickchart {\n",
              "      --bg-color: #3B4455;\n",
              "      --fill-color: #D2E3FC;\n",
              "      --hover-bg-color: #434B5C;\n",
              "      --hover-fill-color: #FFFFFF;\n",
              "      --disabled-bg-color: #3B4455;\n",
              "      --disabled-fill-color: #666;\n",
              "  }\n",
              "\n",
              "  .colab-df-quickchart {\n",
              "    background-color: var(--bg-color);\n",
              "    border: none;\n",
              "    border-radius: 50%;\n",
              "    cursor: pointer;\n",
              "    display: none;\n",
              "    fill: var(--fill-color);\n",
              "    height: 32px;\n",
              "    padding: 0;\n",
              "    width: 32px;\n",
              "  }\n",
              "\n",
              "  .colab-df-quickchart:hover {\n",
              "    background-color: var(--hover-bg-color);\n",
              "    box-shadow: 0 1px 2px rgba(60, 64, 67, 0.3), 0 1px 3px 1px rgba(60, 64, 67, 0.15);\n",
              "    fill: var(--button-hover-fill-color);\n",
              "  }\n",
              "\n",
              "  .colab-df-quickchart-complete:disabled,\n",
              "  .colab-df-quickchart-complete:disabled:hover {\n",
              "    background-color: var(--disabled-bg-color);\n",
              "    fill: var(--disabled-fill-color);\n",
              "    box-shadow: none;\n",
              "  }\n",
              "\n",
              "  .colab-df-spinner {\n",
              "    border: 2px solid var(--fill-color);\n",
              "    border-color: transparent;\n",
              "    border-bottom-color: var(--fill-color);\n",
              "    animation:\n",
              "      spin 1s steps(1) infinite;\n",
              "  }\n",
              "\n",
              "  @keyframes spin {\n",
              "    0% {\n",
              "      border-color: transparent;\n",
              "      border-bottom-color: var(--fill-color);\n",
              "      border-left-color: var(--fill-color);\n",
              "    }\n",
              "    20% {\n",
              "      border-color: transparent;\n",
              "      border-left-color: var(--fill-color);\n",
              "      border-top-color: var(--fill-color);\n",
              "    }\n",
              "    30% {\n",
              "      border-color: transparent;\n",
              "      border-left-color: var(--fill-color);\n",
              "      border-top-color: var(--fill-color);\n",
              "      border-right-color: var(--fill-color);\n",
              "    }\n",
              "    40% {\n",
              "      border-color: transparent;\n",
              "      border-right-color: var(--fill-color);\n",
              "      border-top-color: var(--fill-color);\n",
              "    }\n",
              "    60% {\n",
              "      border-color: transparent;\n",
              "      border-right-color: var(--fill-color);\n",
              "    }\n",
              "    80% {\n",
              "      border-color: transparent;\n",
              "      border-right-color: var(--fill-color);\n",
              "      border-bottom-color: var(--fill-color);\n",
              "    }\n",
              "    90% {\n",
              "      border-color: transparent;\n",
              "      border-bottom-color: var(--fill-color);\n",
              "    }\n",
              "  }\n",
              "</style>\n",
              "\n",
              "  <script>\n",
              "    async function quickchart(key) {\n",
              "      const quickchartButtonEl =\n",
              "        document.querySelector('#' + key + ' button');\n",
              "      quickchartButtonEl.disabled = true;  // To prevent multiple clicks.\n",
              "      quickchartButtonEl.classList.add('colab-df-spinner');\n",
              "      try {\n",
              "        const charts = await google.colab.kernel.invokeFunction(\n",
              "            'suggestCharts', [key], {});\n",
              "      } catch (error) {\n",
              "        console.error('Error during call to suggestCharts:', error);\n",
              "      }\n",
              "      quickchartButtonEl.classList.remove('colab-df-spinner');\n",
              "      quickchartButtonEl.classList.add('colab-df-quickchart-complete');\n",
              "    }\n",
              "    (() => {\n",
              "      let quickchartButtonEl =\n",
              "        document.querySelector('#df-cc72a767-1d32-46c2-b4c1-a2a727ceb5e6 button');\n",
              "      quickchartButtonEl.style.display =\n",
              "        google.colab.kernel.accessAllowed ? 'block' : 'none';\n",
              "    })();\n",
              "  </script>\n",
              "</div>\n",
              "    </div>\n",
              "  </div>\n"
            ]
          },
          "metadata": {},
          "execution_count": 79
        }
      ]
    },
    {
      "cell_type": "code",
      "source": [
        "df.text[0]"
      ],
      "metadata": {
        "colab": {
          "base_uri": "https://localhost:8080/",
          "height": 36
        },
        "id": "1gy2BebSxobw",
        "outputId": "09d4a9d8-8859-4fd0-8d66-74e70d019b3d"
      },
      "execution_count": 80,
      "outputs": [
        {
          "output_type": "execute_result",
          "data": {
            "text/plain": [
              "'@AppleSupport causing the reply to be disregarded and the tapped notification under the keyboard is opened😡😡😡'"
            ],
            "application/vnd.google.colaboratory.intrinsic+json": {
              "type": "string"
            }
          },
          "metadata": {},
          "execution_count": 80
        }
      ]
    },
    {
      "cell_type": "code",
      "source": [
        "df['text'].head()"
      ],
      "metadata": {
        "colab": {
          "base_uri": "https://localhost:8080/"
        },
        "id": "n3Zehd1bx0FY",
        "outputId": "2173e63a-dc1f-4262-9945-0a897149cd5b"
      },
      "execution_count": 81,
      "outputs": [
        {
          "output_type": "execute_result",
          "data": {
            "text/plain": [
              "0    @AppleSupport causing the reply to be disregar...\n",
              "1    @105835 Your business means a lot to us. Pleas...\n",
              "2    @76328 I really hope you all change but I'm su...\n",
              "3    @105836 LiveChat is online at the moment - htt...\n",
              "4    @VirginTrains see attached error message. I've...\n",
              "Name: text, dtype: object"
            ]
          },
          "metadata": {},
          "execution_count": 81
        }
      ]
    },
    {
      "cell_type": "code",
      "source": [
        "!pip install nltk"
      ],
      "metadata": {
        "colab": {
          "base_uri": "https://localhost:8080/"
        },
        "id": "Z_ksZvvsx9CF",
        "outputId": "6364615a-2e43-4123-abe3-f418cfc2947a"
      },
      "execution_count": 10,
      "outputs": [
        {
          "output_type": "stream",
          "name": "stdout",
          "text": [
            "Requirement already satisfied: nltk in /usr/local/lib/python3.10/dist-packages (3.8.1)\n",
            "Requirement already satisfied: click in /usr/local/lib/python3.10/dist-packages (from nltk) (8.1.7)\n",
            "Requirement already satisfied: joblib in /usr/local/lib/python3.10/dist-packages (from nltk) (1.3.2)\n",
            "Requirement already satisfied: regex>=2021.8.3 in /usr/local/lib/python3.10/dist-packages (from nltk) (2023.6.3)\n",
            "Requirement already satisfied: tqdm in /usr/local/lib/python3.10/dist-packages (from nltk) (4.66.1)\n"
          ]
        }
      ]
    },
    {
      "cell_type": "code",
      "source": [
        "!pip install emoji"
      ],
      "metadata": {
        "colab": {
          "base_uri": "https://localhost:8080/"
        },
        "id": "6eqedhEOyGPo",
        "outputId": "b754678b-a7e0-42ab-eb16-88c0a509a54c"
      },
      "execution_count": 11,
      "outputs": [
        {
          "output_type": "stream",
          "name": "stdout",
          "text": [
            "Collecting emoji\n",
            "  Downloading emoji-2.8.0-py2.py3-none-any.whl (358 kB)\n",
            "\u001b[?25l     \u001b[90m━━━━━━━━━━━━━━━━━━━━━━━━━━━━━━━━━━━━━━━━\u001b[0m \u001b[32m0.0/358.9 kB\u001b[0m \u001b[31m?\u001b[0m eta \u001b[36m-:--:--\u001b[0m\r\u001b[2K     \u001b[91m━━━━━━\u001b[0m\u001b[91m╸\u001b[0m\u001b[90m━━━━━━━━━━━━━━━━━━━━━━━━━━━━━━━━━\u001b[0m \u001b[32m61.4/358.9 kB\u001b[0m \u001b[31m2.2 MB/s\u001b[0m eta \u001b[36m0:00:01\u001b[0m\r\u001b[2K     \u001b[90m━━━━━━━━━━━━━━━━━━━━━━━━━━━━━━━━━━━━━━━━\u001b[0m \u001b[32m358.9/358.9 kB\u001b[0m \u001b[31m6.8 MB/s\u001b[0m eta \u001b[36m0:00:00\u001b[0m\n",
            "\u001b[?25hInstalling collected packages: emoji\n",
            "Successfully installed emoji-2.8.0\n"
          ]
        }
      ]
    },
    {
      "cell_type": "code",
      "source": [
        "import nltk\n",
        "nltk.download('punkt')"
      ],
      "metadata": {
        "colab": {
          "base_uri": "https://localhost:8080/"
        },
        "id": "0MlP6BTQ1joT",
        "outputId": "51798da5-8db5-475b-cffe-4d4e0e138b51"
      },
      "execution_count": 82,
      "outputs": [
        {
          "output_type": "stream",
          "name": "stderr",
          "text": [
            "[nltk_data] Downloading package punkt to /root/nltk_data...\n",
            "[nltk_data]   Package punkt is already up-to-date!\n"
          ]
        },
        {
          "output_type": "execute_result",
          "data": {
            "text/plain": [
              "True"
            ]
          },
          "metadata": {},
          "execution_count": 82
        }
      ]
    },
    {
      "cell_type": "code",
      "source": [
        "import re\n",
        "from nltk.tokenize import word_tokenize\n",
        "from nltk.corpus import stopwords\n",
        "from nltk.stem import PorterStemmer\n",
        "from nltk.stem import WordNetLemmatizer"
      ],
      "metadata": {
        "id": "ucugjzY86iSp"
      },
      "execution_count": 83,
      "outputs": []
    },
    {
      "cell_type": "code",
      "source": [
        "# Download the necessary NLTK data\n",
        "nltk.download('punkt')\n",
        "nltk.download('wordnet')  # Download WordNet data\n",
        "nltk.download('stopwords')"
      ],
      "metadata": {
        "colab": {
          "base_uri": "https://localhost:8080/"
        },
        "id": "GfKeAQ0C4P__",
        "outputId": "9dfb95ef-f66c-42a4-f66a-cb22f1f9d842"
      },
      "execution_count": 84,
      "outputs": [
        {
          "output_type": "stream",
          "name": "stderr",
          "text": [
            "[nltk_data] Downloading package punkt to /root/nltk_data...\n",
            "[nltk_data]   Package punkt is already up-to-date!\n",
            "[nltk_data] Downloading package wordnet to /root/nltk_data...\n",
            "[nltk_data]   Package wordnet is already up-to-date!\n",
            "[nltk_data] Downloading package stopwords to /root/nltk_data...\n",
            "[nltk_data]   Package stopwords is already up-to-date!\n"
          ]
        },
        {
          "output_type": "execute_result",
          "data": {
            "text/plain": [
              "True"
            ]
          },
          "metadata": {},
          "execution_count": 84
        }
      ]
    },
    {
      "cell_type": "code",
      "source": [
        "# Assuming 'text_list' contains your text data\n",
        "stemmed_text_list = []  # List for stemmed text\n",
        "lemmatized_text_list = []  # List for lemmatized text"
      ],
      "metadata": {
        "id": "Ku36QFHI6rUf"
      },
      "execution_count": 85,
      "outputs": []
    },
    {
      "cell_type": "code",
      "source": [
        "# Initialize the NLTK Porter Stemmer and WordNet Lemmatizer\n",
        "stemmer = PorterStemmer()\n",
        "lemmatizer = WordNetLemmatizer()\n",
        "stop_words = set(stopwords.words('english'))"
      ],
      "metadata": {
        "id": "7kJAc60S6zl3"
      },
      "execution_count": 86,
      "outputs": []
    },
    {
      "cell_type": "code",
      "source": [
        "for text in text_list:\n",
        "    # Lowercasing\n",
        "    text = text.lower()\n",
        "\n",
        "    # Removing special characters and symbols\n",
        "    text = re.sub(r'[^a-zA-Z0-9\\s]', '', text)\n",
        "\n",
        "    # Removal of user mentions and numbers at the beginning of each tweet\n",
        "    text = re.sub(r'(@\\d+)|^\\d+\\s*', '', text)\n",
        "\n",
        "    # Removing URLs\n",
        "    text = re.sub(r'https?://\\S+', '', text)\n",
        "\n",
        "    # Tokenization\n",
        "    tokens = word_tokenize(text)\n",
        "\n",
        "    # Apply stemming\n",
        "    stemmed_tokens = [stemmer.stem(token) for token in tokens if token not in stop_words]\n",
        "    stemmed_text = ' '.join(stemmed_tokens)\n",
        "    stemmed_text_list.append(stemmed_text)\n",
        "\n",
        "    # Apply lemmatization\n",
        "    lemmatized_tokens = [lemmatizer.lemmatize(token) for token in tokens if token not in stop_words]\n",
        "    lemmatized_text = ' '.join(lemmatized_tokens)\n",
        "    lemmatized_text_list.append(lemmatized_text)\n",
        "\n",
        "# 'stemmed_text_list' contains text with stemming applied, and 'lemmatized_text_list' contains text with lemmatization applied"
      ],
      "metadata": {
        "id": "kzCVWKCV61YF"
      },
      "execution_count": 87,
      "outputs": []
    },
    {
      "cell_type": "code",
      "source": [
        "# 'stemmed_text_list' now contains the cleaned and stemmed text data\n",
        "print(stemmed_text_list)"
      ],
      "metadata": {
        "colab": {
          "base_uri": "https://localhost:8080/"
        },
        "id": "TUiugVrU7MHI",
        "outputId": "38fd9d89-e05e-4175-a8ee-d5fba044ecc5"
      },
      "execution_count": 88,
      "outputs": [
        {
          "output_type": "stream",
          "name": "stdout",
          "text": [
            "['applesupport caus repli disregard tap notif keyboard open', 'busi mean lot us pleas dm name zip code addit detail concern rr httpstcoznuu1vjn9r', 'realli hope chang im sure wont dont', 'livechat onlin moment httpstcosy94vtu8kq contact 03331 031 031 option 1 4 3 leav messag request call back', 'virgintrain see attach error messag ive tri leav voicemail sever time past week httpstconxvzjlyx1k', 'tri anoth devic miriam mm', 'virgintrain yep ive tri laptop sever time past week today ive tri differ browser', 'work ok miriam link help httpstco0m2mph15eh mm', 'virgintrain still havent heard amp number im direct phone dead end amp live chat doesnt work someon call', 'that miriam team send email shortli hp', 'help version io find set gt gener gt repli dm httpstcogdrqu22ypt', 'applesupport suffer hope find solut', 'applesupport hi appl ive concern latest io slow iphone6 happi solut pleas', 'thank reach us alway happi help send us dm look togeth httpstcogdrqu22ypt', 'updat phone suddenli everyth take age load wtf 76099 updat sux hate fix bye', 'hi devic happen could also let us know android spotifi version your use thatd great ay', 'spotifycar thank version 8422857 armv7 anker bluetooth speaker samsung galaxi tab 2016 model smt280 distanc speaker matter', 'thank distanc could possibl affect playback log gt restart devic gt log back make differ ay', 'spotifycar ive move speaker 1 metr away skip mo 3 4 metr away finger cross', 'that great hear anyth come let us know well carri help ay', 'spotifycar brilliant thank', 'your welcom there anyth els help give us shout cp', '91226 pleas help spotifi premium skip song constantli android tablet amp bluetooth speaker tri everyth', 'wed love help pleas dm us let us know step youv tri sinc experienc behavior httpstcogdrqu22ypt', 'applesupport 1102 phone suck app broken wifi disconnect frequent appl ios1102 painfulupd', 'sorri flight delay beatner travel ba8733 updat departur time 1530 12', 'first flight long time britishairway one 1h delay short jump fralci one provid statu updat', 'batteri life import dm us io version iphon run well go httpstcogdrqu22ypt', 'okay 76099 use fuck phone 2 minut drain 8 fuck percent', 'thank reach us alway happi help send us dm look togeth httpstcogdrqu22ypt', 'applesupport get iphon 7plu back old io pleas batteri run half time app frequent crash', 'wed happi help send us dm start httpstcogdrqu22ypt', 'youv paralys phone updat 76099 grrrrrrrrrr', 'wed like help sam number call pleas dm us info advis httpstco5pyldjbc6r', 'o2 receiv week ago sinc ive get 23 call day telemarket someon use name httpstcogltz4xhcex', 'understand frustrat experi pleas send dm account inform look matter ad', 'internet xfiniti talkin 2472 hour yall game mess 77245', 'understand frustrat situat pleas follow us send dm assist sprint care ac', 'servic last 40 min sprint get refund httpstcowypw9hp6wt', 'wed like help happen tri listen appl music amp use whatsapp music paus let us know dm httpstcogdrqu22ypt', 'new 76099 updat let listen music go whatsapp time', 'hi harri help check log gt restart devic gt log back make differ keep us post mu', 'spotifycar seem work stage let know happen cheer', 'sure thing well keep eye updat mu', 'spotifycar problem come back today kind bug', 'thank give us nudg devic oper system spotifi version happen ay', 'spotifycar macbook air earli 2014 run high sierra spotifi version 1065320gac7a8e02', 'got tri step us httpstcoeqisdmwzat help let us know play ay', 'spotifycar ive issu playback song stop midway wont restart unless close reopen app', 'let take look exact io your use use specif app notic dm us repli httpstcogdrqu22ypt', 'applesupport latest version read help page turn virtual app locat sv type drop 3 life', 'applesupport super help problem solv love appl', 'applesupport ios11upd still kill batteri within 12 hour phone 10 month old disgrac use get 2 day', 'thank reach us alway happi help send us dm look togeth httpstcogdrqu22ypt', 'took phone charg 720am 803am 60 batteri remain 76099 plz beg sort batteri life', 'point load hit number get immedi youll even receiv congrat email almost ac', 'southwestair thank answer', 'southwestair curiouswil get companion pass exact moment get enough point wait thank', 'wed like provid assist tell us issu your experienc dm well go httpstcogdrqu22ypt', 'applesupport need new code istor havent recd msg mani sent help', 'experienc issu devic dm us what go well see help httpstcogdrqu22ypt', 'applesupport fix updat horribl', 'appreci 1530 hope depart soon sorri inconveni delay caus 22 jr', 'britishairway thank answer respons onsit aircraft depart today rebook 105853 4h delay', 'sorri hear hope get everyth sort kind regard jool', 'sorri poor experi pleas dm full servic address name account ass httpstcojezhqgdbmd', 'askspectrum yard ive call 45 time 6 week im custom pretti tempt coaxial', 'guess mean free cabl neighborhood httpstcofbgee9yxpm', 'hi thoma colleagu believ person buy alcohol look 25 challeng id prove theyr age paig', 'tesco mayb hire colleagu see', 'tesco point enforc properli dont plu take commonsens think person look 18', 'hi thoma correct help store colleagu judg age protect make underag sale amanda', 'tesco uk offlicens law 18 25', 'hi thoma oper think 25 polici store id flatter idd helena', 'got id tesco buy one adnam broadsid blind part jobspec 35 99 kilo', 'hi could tri delet cach cooki reinstal app use fix issu dani', 'tesco lose shop ive done delet cachecooki use app', 'hi long sign account prior delet cach amp cooki youll still full basket thank mike', 'tesco done still tell deliveri slot whatsoev', 'dm full name address email id happi look thank mike', 'hey tesco websit broken tell deliveri slot next 3 week find slightli unlik', 'particular app seem caus issu other model iphon use join us dm httpstcogdrqu22ypt', 'applesupport latest version io start immedi updat phone', 'wed like help start happen version io run current', 'app stop work without warn phone freez everi five minut love new updat 76099', 'hi agoura thank tweet pleas refer articl httpstcobssgjzartc amp click link repli back rashmi httpstcoa2xkfcrug1', 'hpsupport problem printhead serial th536d1hn hpcswu hpprnt', 'up servic call choic allow packag deliv up store ml httpstcobpzkndqww1 httpstcowkjhdxwgrq', 'wish amazon option get ship up store avoid lot struggl', 'reschedul shit tomorrow httpstcorsvzct982t', 'hey sara sorri hear issu ask lay speed websit respond ty chri', 'tesco bit find layout cumbersom remov item fave get huge slowdown keen thin green line httpstco9281okeebk', 'doesnt help pleas dm full name address email includ browser devic log thank lee 22']\n"
          ]
        }
      ]
    },
    {
      "cell_type": "code",
      "source": [
        "# 'lemmatized_text_list' now contains the cleaned and lemmatized text data\n",
        "print(lemmatized_text_list)"
      ],
      "metadata": {
        "colab": {
          "base_uri": "https://localhost:8080/"
        },
        "id": "tH68qK-x7nkQ",
        "outputId": "9a049dab-eb85-4783-c7b3-9059194cd84a"
      },
      "execution_count": 89,
      "outputs": [
        {
          "output_type": "stream",
          "name": "stdout",
          "text": [
            "['applesupport causing reply disregarded tapped notification keyboard opened', 'business mean lot u please dm name zip code additional detail concern rr httpstcoznuu1vjn9r', 'really hope change im sure wont dont', 'livechat online moment httpstcosy94vtu8kq contact 03331 031 031 option 1 4 3 leave message request call back', 'virgintrains see attached error message ive tried leaving voicemail several time past week httpstconxvzjlyx1k', 'tried another device miriam mm', 'virgintrains yep ive tried laptop several time past week today ive tried different browser', 'working ok miriam link help httpstco0m2mph15eh mm', 'virgintrains still havent heard amp number im directed phone dead end amp live chat doesnt work someone call', 'thats miriam team send email shortly hp', 'help version io find setting gt general gt reply dm httpstcogdrqu22ypt', 'applesupport suffering hope find solution', 'applesupport hi apple ive concern latest io slow iphone6 happy solution please', 'thanks reaching u always happy help send u dm look together httpstcogdrqu22ypt', 'updated phone suddenly everything take age load wtf 76099 update sux hate fix bye', 'hi device happening could also let u know android spotify version youre using thatd great ay', 'spotifycares thanks version 8422857 armv7 anker bluetooth speaker samsung galaxy tab 2016 model smt280 distance speaker matter', 'thanks distance could possibly affect playback logging gt restarting device gt logging back make difference ay', 'spotifycares ive moved speaker 1 metre away skipping mo 3 4 metre away finger crossed', 'thats great hear anything come let u know well carry helping ay', 'spotifycares brilliant thanks', 'youre welcome there anything else help give u shout cp', '91226 please help spotify premium skipping song constantly android tablet amp bluetooth speaker tried everything', 'wed love help please dm u let u know step youve tried since experiencing behavior httpstcogdrqu22ypt', 'applesupport 1102 phone suck apps broken wifi disconnect frequently apple ios1102 painfulupdate', 'sorry flight delayed beatner travelling ba8733 updated departure time 1530 12', 'first flight long time britishairways one 1h delay short jump fralcy one provide status update', 'battery life important dm u io version iphone running well go httpstcogdrqu22ypt', 'okay 76099 used fucking phone 2 minute drain 8 fucking percent', 'thanks reaching u always happy help send u dm look together httpstcogdrqu22ypt', 'applesupport get iphone 7plus back old io please battery run half time apps frequently crash', 'wed happy help send u dm start httpstcogdrqu22ypt', 'youve paralysed phone update 76099 grrrrrrrrrr', 'wed like help sam number calling please dm u info advise httpstco5pyldjbc6r', 'o2 received week ago since ive getting 23 call day telemarketer someone using name httpstcogltz4xhcex', 'understand frustrating experience please send dm account information look matter ad', 'internet xfinity talkin 2472 hour yall game messed 77245', 'understand frustrated situation please follow u sending dm assistance sprint care ac', 'service last 40 min sprint get refund httpstcowypw9hp6wt', 'wed like help happens try listen apple music amp use whatsapp music pause let u know dm httpstcogdrqu22ypt', 'new 76099 update let listen music go whatsapp time', 'hi harry help check logging gt restarting device gt logging back make difference keep u posted mu', 'spotifycares seems working stage let know happens cheer', 'sure thing well keep eye update mu', 'spotifycares problem come back today kind bug', 'thanks giving u nudge device operating system spotify version happening ay', 'spotifycares macbook air early 2014 running high sierra spotify version 1065320gac7a8e02', 'got try step u httpstcoeqisdmwzat help let u know play ay', 'spotifycares ive issue playback song stopping midway wont restart unless close reopen app', 'let take look exact io youre using using specific apps noticing dm u reply httpstcogdrqu22ypt', 'applesupport latest version read help page turned virtually apps location svs typing dropped 3 life', 'applesupport super help problem solved love apple', 'applesupport ios11update still killing battery within 12 hour phone 10 month old disgrace used get 2 day', 'thanks reaching u always happy help send u dm look together httpstcogdrqu22ypt', 'took phone charge 720am 803am 60 battery remaining 76099 plz beg sort battery life', 'point load hit number get immediately youll even receive congrats email almost ac', 'southwestair thank answer', 'southwestair curiouswill get companion pas exact moment get enough point wait thanks', 'wed like provide assistance tell u issue youre experiencing dm well go httpstcogdrqu22ypt', 'applesupport need new code istore havent recd msg many sent help', 'experiencing issue device dm u whats going well see help httpstcogdrqu22ypt', 'applesupport fix update horrible', 'appreciate 1530 hopefully depart soon sorry inconvenience delay caused 22 jr', 'britishairways thanks answer response onsite aircraft depart today rebooking 105853 4h delay', 'sorry hear hope get everything sorted kind regard jools', 'sorry poor experience please dm full service address name account as httpstcojezhqgdbmd', 'askspectrum yard ive called 45 time 6 week im customer pretty tempting coaxial', 'guess mean free cable neighborhood httpstcofbgee9yxpm', 'hi thomas colleague belief person buying alcohol look 25 challenged id prove theyre age paige', 'tesco maybe hire colleague see', 'tesco point enforced properly dont plus take commonsense think person look 18', 'hi thomas correct help store colleague judge age protect making underage sale amanda', 'tesco uk offlicense law 18 25', 'hi thomas operate think 25 policy store id flattered idd helena', 'got id tesco buying one adnams broadside blind part jobspec 35 99 kilo', 'hi could try deleting cache cooky reinstalling app using fix issue dani', 'tesco lose shopping ive done delete cachecookies using app', 'hi long sign account prior deleting cache amp cooky youll still full basket thanks mike', 'tesco done still telling delivery slot whatsoever', 'dm full name address email id happy look thanks mike', 'hey tesco website broken telling delivery slot next 3 week find slightly unlikely', 'particular app seems cause issue others model iphone using join u dm httpstcogdrqu22ypt', 'applesupport latest version io started immediately updated phone', 'wed like help start happening version io running currently', 'apps stop working without warning phone freeze every five minute love new update 76099', 'hi agoura thanks tweeting please refer article httpstcobssgjzartc amp click link reply back rashmi httpstcoa2xkfcrug1', 'hpsupport problem printhead serial th536d1hn hpcswus hpprnt', 'ups service called choice allow package delivered ups store ml httpstcobpzkndqww1 httpstcowkjhdxwgrq', 'wish amazon option get shipped ups store avoid lot struggle', 'reschedule shit tomorrow httpstcorsvzct982t', 'hey sara sorry hear issue ask lay speed website responding ty chris', 'tesco bit finding layout cumbersome removing item faves getting huge slowdown keen thin green line httpstco9281okeebk', 'doesnt help please dm full name address email including browser device log thanks lee 22']\n"
          ]
        }
      ]
    }
  ]
}
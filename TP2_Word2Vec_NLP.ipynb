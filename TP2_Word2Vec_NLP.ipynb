{
  "nbformat": 4,
  "nbformat_minor": 0,
  "metadata": {
    "colab": {
      "provenance": [],
      "authorship_tag": "ABX9TyOWeUZdRJJiqFayjcv8IB/D",
      "include_colab_link": true
    },
    "kernelspec": {
      "name": "python3",
      "display_name": "Python 3"
    },
    "language_info": {
      "name": "python"
    }
  },
  "cells": [
    {
      "cell_type": "markdown",
      "metadata": {
        "id": "view-in-github",
        "colab_type": "text"
      },
      "source": [
        "<a href=\"https://colab.research.google.com/github/mohammedmangari/Preprocessing_Text_NLP/blob/main/TP2_Word2Vec_NLP.ipynb\" target=\"_parent\"><img src=\"https://colab.research.google.com/assets/colab-badge.svg\" alt=\"Open In Colab\"/></a>"
      ]
    },
    {
      "cell_type": "code",
      "execution_count": 2,
      "metadata": {
        "id": "xbKQNFlKR6Wy"
      },
      "outputs": [],
      "source": [
        "from gensim.models import Word2Vec\n",
        "from nltk.tokenize import sent_tokenize, word_tokenize"
      ]
    },
    {
      "cell_type": "code",
      "source": [
        "import nltk\n",
        "nltk.download('punkt')"
      ],
      "metadata": {
        "colab": {
          "base_uri": "https://localhost:8080/"
        },
        "id": "7WYWpdulUOVF",
        "outputId": "c30a5f18-986d-4cd7-e323-f3317f1c4080"
      },
      "execution_count": 3,
      "outputs": [
        {
          "output_type": "stream",
          "name": "stderr",
          "text": [
            "[nltk_data] Downloading package punkt to /root/nltk_data...\n",
            "[nltk_data]   Unzipping tokenizers/punkt.zip.\n"
          ]
        },
        {
          "output_type": "execute_result",
          "data": {
            "text/plain": [
              "True"
            ]
          },
          "metadata": {},
          "execution_count": 3
        }
      ]
    },
    {
      "cell_type": "code",
      "source": [
        "# Tokenize the text into sentences and words\n",
        "text = \"Morocco, located at the crossroads of Europe and Africa, is a country drenched in history, mystery, and cultural richness. A testament to the ancient civilizations that once flourished here, this North African kingdom boasts a unique blend of Arab, Berber, and European influences. At the heart of Morocco's rich tapestry lies Marrakech, one of its four imperial cities and a vibrant epicenter of tradition and modernity. Geographical Significance Morocco is bordered by the Atlantic Ocean to the west, the Mediterranean Sea to the north, Algeria to the east and southeast, and the vast Sahara desert to the south. Its strategic location has historically made it a sought-after territory and a melting pot of cultures, religions, and trade routes. Marrakech: The Red City Marrakech, often referred to as 'The Red City' due to its distinctive red-hued buildings, stands against the backdrop of the snow-capped Atlas Mountains. Established in the 11th century, it has remained a crucial political, economic, and cultural center of Morocco. Journey through the Medina Marrakech's old town, the Medina, is a UNESCO World Heritage site and a labyrinthine maze of narrow alleys, bustling souks, and historical landmarks. The Djemaa el-Fna Square lies at the heart of the Medina and comes alive every evening with storytellers, musicians, snake charmers, and food stalls offering tantalizing Moroccan delicacies. Palaces and Gardens The city is also home to grand palaces like the Bahia Palace, showcasing intricate Islamic architecture, and the Saadian Tombs, remnants of the Saadian dynasty. The Majorelle Garden, restored by the fashion designer Yves Saint Laurent, is a tranquil oasis of cacti, palm trees, and cobalt blue accents. Modern Marrakech While tradition and history permeate Marrakech, the city is not averse to the modern world. Gueliz, the new town, is brimming with contemporary art galleries, stylish cafes, and chic boutiques, offering a stark contrast to the ancient Medina. Moroccan Cuisine No journey through Morocco and Marrakech would be complete without indulging in the local cuisine. Tagines, couscous, and pastilla are just a few of the many dishes that combine a plethora of flavors and spices like saffron, cumin, and mint. Paired with Moroccan mint tea, the culinary experience is truly unparalleled. In Conclusion Morocco, with Marrakech at its heart, offers travelers an unparalleled journey through time. The convergence of history, culture, architecture, and gastronomy makes it an enthralling destination for those seeking both adventure and reflection. As the Moroccan proverb goes, 'He who does not travel does not know the value of men.' In the case of Morocco and Marrakech, it's not just the value of men, but also the value of time, tradition, and tales that have spanned centuries.\"\n",
        "sentences = sent_tokenize(text)\n",
        "words = [word_tokenize(sentence) for sentence in sentences]"
      ],
      "metadata": {
        "id": "cBbMc9cHT1uy"
      },
      "execution_count": 4,
      "outputs": []
    },
    {
      "cell_type": "code",
      "source": [
        "print(words)"
      ],
      "metadata": {
        "colab": {
          "base_uri": "https://localhost:8080/"
        },
        "id": "vEuDctyBURCQ",
        "outputId": "5d1fa91e-9bf3-4c07-98f6-e9bf78ce6f4d"
      },
      "execution_count": 5,
      "outputs": [
        {
          "output_type": "stream",
          "name": "stdout",
          "text": [
            "[['Morocco', ',', 'located', 'at', 'the', 'crossroads', 'of', 'Europe', 'and', 'Africa', ',', 'is', 'a', 'country', 'drenched', 'in', 'history', ',', 'mystery', ',', 'and', 'cultural', 'richness', '.'], ['A', 'testament', 'to', 'the', 'ancient', 'civilizations', 'that', 'once', 'flourished', 'here', ',', 'this', 'North', 'African', 'kingdom', 'boasts', 'a', 'unique', 'blend', 'of', 'Arab', ',', 'Berber', ',', 'and', 'European', 'influences', '.'], ['At', 'the', 'heart', 'of', 'Morocco', \"'s\", 'rich', 'tapestry', 'lies', 'Marrakech', ',', 'one', 'of', 'its', 'four', 'imperial', 'cities', 'and', 'a', 'vibrant', 'epicenter', 'of', 'tradition', 'and', 'modernity', '.'], ['Geographical', 'Significance', 'Morocco', 'is', 'bordered', 'by', 'the', 'Atlantic', 'Ocean', 'to', 'the', 'west', ',', 'the', 'Mediterranean', 'Sea', 'to', 'the', 'north', ',', 'Algeria', 'to', 'the', 'east', 'and', 'southeast', ',', 'and', 'the', 'vast', 'Sahara', 'desert', 'to', 'the', 'south', '.'], ['Its', 'strategic', 'location', 'has', 'historically', 'made', 'it', 'a', 'sought-after', 'territory', 'and', 'a', 'melting', 'pot', 'of', 'cultures', ',', 'religions', ',', 'and', 'trade', 'routes', '.'], ['Marrakech', ':', 'The', 'Red', 'City', 'Marrakech', ',', 'often', 'referred', 'to', 'as', \"'The\", 'Red', 'City', \"'\", 'due', 'to', 'its', 'distinctive', 'red-hued', 'buildings', ',', 'stands', 'against', 'the', 'backdrop', 'of', 'the', 'snow-capped', 'Atlas', 'Mountains', '.'], ['Established', 'in', 'the', '11th', 'century', ',', 'it', 'has', 'remained', 'a', 'crucial', 'political', ',', 'economic', ',', 'and', 'cultural', 'center', 'of', 'Morocco', '.'], ['Journey', 'through', 'the', 'Medina', 'Marrakech', \"'s\", 'old', 'town', ',', 'the', 'Medina', ',', 'is', 'a', 'UNESCO', 'World', 'Heritage', 'site', 'and', 'a', 'labyrinthine', 'maze', 'of', 'narrow', 'alleys', ',', 'bustling', 'souks', ',', 'and', 'historical', 'landmarks', '.'], ['The', 'Djemaa', 'el-Fna', 'Square', 'lies', 'at', 'the', 'heart', 'of', 'the', 'Medina', 'and', 'comes', 'alive', 'every', 'evening', 'with', 'storytellers', ',', 'musicians', ',', 'snake', 'charmers', ',', 'and', 'food', 'stalls', 'offering', 'tantalizing', 'Moroccan', 'delicacies', '.'], ['Palaces', 'and', 'Gardens', 'The', 'city', 'is', 'also', 'home', 'to', 'grand', 'palaces', 'like', 'the', 'Bahia', 'Palace', ',', 'showcasing', 'intricate', 'Islamic', 'architecture', ',', 'and', 'the', 'Saadian', 'Tombs', ',', 'remnants', 'of', 'the', 'Saadian', 'dynasty', '.'], ['The', 'Majorelle', 'Garden', ',', 'restored', 'by', 'the', 'fashion', 'designer', 'Yves', 'Saint', 'Laurent', ',', 'is', 'a', 'tranquil', 'oasis', 'of', 'cacti', ',', 'palm', 'trees', ',', 'and', 'cobalt', 'blue', 'accents', '.'], ['Modern', 'Marrakech', 'While', 'tradition', 'and', 'history', 'permeate', 'Marrakech', ',', 'the', 'city', 'is', 'not', 'averse', 'to', 'the', 'modern', 'world', '.'], ['Gueliz', ',', 'the', 'new', 'town', ',', 'is', 'brimming', 'with', 'contemporary', 'art', 'galleries', ',', 'stylish', 'cafes', ',', 'and', 'chic', 'boutiques', ',', 'offering', 'a', 'stark', 'contrast', 'to', 'the', 'ancient', 'Medina', '.'], ['Moroccan', 'Cuisine', 'No', 'journey', 'through', 'Morocco', 'and', 'Marrakech', 'would', 'be', 'complete', 'without', 'indulging', 'in', 'the', 'local', 'cuisine', '.'], ['Tagines', ',', 'couscous', ',', 'and', 'pastilla', 'are', 'just', 'a', 'few', 'of', 'the', 'many', 'dishes', 'that', 'combine', 'a', 'plethora', 'of', 'flavors', 'and', 'spices', 'like', 'saffron', ',', 'cumin', ',', 'and', 'mint', '.'], ['Paired', 'with', 'Moroccan', 'mint', 'tea', ',', 'the', 'culinary', 'experience', 'is', 'truly', 'unparalleled', '.'], ['In', 'Conclusion', 'Morocco', ',', 'with', 'Marrakech', 'at', 'its', 'heart', ',', 'offers', 'travelers', 'an', 'unparalleled', 'journey', 'through', 'time', '.'], ['The', 'convergence', 'of', 'history', ',', 'culture', ',', 'architecture', ',', 'and', 'gastronomy', 'makes', 'it', 'an', 'enthralling', 'destination', 'for', 'those', 'seeking', 'both', 'adventure', 'and', 'reflection', '.'], ['As', 'the', 'Moroccan', 'proverb', 'goes', ',', \"'He\", 'who', 'does', 'not', 'travel', 'does', 'not', 'know', 'the', 'value', 'of', 'men', '.', \"'\"], ['In', 'the', 'case', 'of', 'Morocco', 'and', 'Marrakech', ',', 'it', \"'s\", 'not', 'just', 'the', 'value', 'of', 'men', ',', 'but', 'also', 'the', 'value', 'of', 'time', ',', 'tradition', ',', 'and', 'tales', 'that', 'have', 'spanned', 'centuries', '.']]\n"
          ]
        }
      ]
    },
    {
      "cell_type": "code",
      "source": [
        "# Train a Word2Vec model\n",
        "model = Word2Vec(words, vector_size=10, window=5, min_count=1, sg=0)\n",
        "model.save(\"word2vec_model.model\")"
      ],
      "metadata": {
        "id": "1ya3oJwnUZsk"
      },
      "execution_count": 45,
      "outputs": []
    },
    {
      "cell_type": "code",
      "source": [
        "word_vector = model.wv['Morocco']\n",
        "print(f\"Représentation vectorielle de 'Morocco' : {word_vector}\")"
      ],
      "metadata": {
        "id": "KXtkIfhKRJAG",
        "outputId": "c5da4301-6fb0-4ae0-be92-c0569e31f175",
        "colab": {
          "base_uri": "https://localhost:8080/"
        }
      },
      "execution_count": 46,
      "outputs": [
        {
          "output_type": "stream",
          "name": "stdout",
          "text": [
            "Représentation vectorielle de 'Morocco' : [ 0.01736253  0.0017798   0.03831863  0.00477603  0.09639565  0.05170828\n",
            " -0.08564316 -0.06794921  0.00630411  0.06225212]\n"
          ]
        }
      ]
    },
    {
      "cell_type": "code",
      "source": [
        "word1=\"Morocco\"\n",
        "word2=\"Marrakech\"\n",
        "similarity = model.wv.similarity(word1,word2)\n",
        "print(f\"Similarité entre {word1} et {word2}  : {similarity}\")"
      ],
      "metadata": {
        "id": "2N9uu6RCQWuB",
        "outputId": "f9cf587a-d333-4930-a614-460219bc9d68",
        "colab": {
          "base_uri": "https://localhost:8080/"
        }
      },
      "execution_count": 47,
      "outputs": [
        {
          "output_type": "stream",
          "name": "stdout",
          "text": [
            "Similarité entre Morocco et Marrakech  : -0.22894315421581268\n"
          ]
        }
      ]
    },
    {
      "cell_type": "code",
      "source": [
        "# Find word associations\n",
        "word_associations = model.wv.most_similar(\"Morocco\", topn=5)\n",
        "print(\"Word Associations for 'Morocco':\")\n",
        "for word, score in word_associations:\n",
        "    print(f\"{word}: {score}\")"
      ],
      "metadata": {
        "colab": {
          "base_uri": "https://localhost:8080/"
        },
        "id": "Ghrrve6QUc0h",
        "outputId": "fd86f696-d7f2-422b-8aa0-541cc2cb8ab6"
      },
      "execution_count": 48,
      "outputs": [
        {
          "output_type": "stream",
          "name": "stdout",
          "text": [
            "Word Associations for 'Morocco':\n",
            "bordered: 0.9006097316741943\n",
            "labyrinthine: 0.7654823064804077\n",
            "While: 0.6662993431091309\n",
            "'The: 0.6121188998222351\n",
            "location: 0.6098245978355408\n"
          ]
        }
      ]
    },
    {
      "cell_type": "code",
      "source": [
        "word_vector = model.wv['Marrakech']\n",
        "print(f\"Représentation vectorielle de 'Marrakech' : {word_vector}\")"
      ],
      "metadata": {
        "id": "d1AmkJxxRS5u",
        "outputId": "aaa99823-35a6-44ac-fadd-9f9f582fc127",
        "colab": {
          "base_uri": "https://localhost:8080/"
        }
      },
      "execution_count": 40,
      "outputs": [
        {
          "output_type": "stream",
          "name": "stdout",
          "text": [
            "Représentation vectorielle de 'Marrakech' : [ 0.00802304 -0.00420066  0.00903679  0.00830735 -0.00444305 -0.00012058\n",
            "  0.00436563 -0.003188   -0.00583951 -0.00668108 -0.00063407 -0.0007354\n",
            "  0.00423684 -0.00230024 -0.00038099  0.00214313  0.00495079 -0.00040786\n",
            " -0.00653055 -0.00996544  0.00021079  0.00671766  0.00166712 -0.00898116\n",
            " -0.00800102  0.00643358 -0.00379767  0.00618556 -0.00691529  0.0085028\n",
            " -0.0062836   0.00323528 -0.00073144 -0.00689974 -0.00362488 -0.00080213\n",
            " -0.00525327 -0.00160972 -0.00789642  0.00215773  0.00880714 -0.00269717\n",
            " -0.00108237  0.00349502  0.00897256 -0.00607634 -0.00691819 -0.00286569\n",
            "  0.00940979  0.00111936 -0.00853493 -0.00156352  0.00959513 -0.00746475\n",
            " -0.00544893  0.0096182  -0.00875356  0.00372725  0.00036158  0.0068016\n",
            "  0.0082908  -0.00281998 -0.00413538  0.00854144  0.00167013  0.0064067\n",
            " -0.00928736  0.01001028 -0.00176731 -0.00556105  0.00290902 -0.00028018\n",
            "  0.00491387 -0.00231378 -0.00389453  0.00248455  0.00859854 -0.0049688\n",
            "  0.00229006 -0.00789241 -0.00690794 -0.00028595 -0.00919251  0.00311127\n",
            "  0.00137986 -0.00231566  0.00487864  0.01001738  0.00877521 -0.00185345\n",
            "  0.00248141 -0.00373194 -0.00828432  0.00624276 -0.00144748 -0.00021146\n",
            " -0.00166505 -0.00482977  0.00415495 -0.00435557]\n"
          ]
        }
      ]
    },
    {
      "cell_type": "code",
      "source": [
        "word_associations = model.wv.most_similar(\"Marrakech\", topn=5)\n",
        "print(\"\\nWord Associations for 'Marrakech':\")\n",
        "for word, score in word_associations:\n",
        "    print(f\"{word}: {score}\")"
      ],
      "metadata": {
        "colab": {
          "base_uri": "https://localhost:8080/"
        },
        "id": "2xpwGYjTUpzv",
        "outputId": "07d6e57f-76db-4334-9446-d157059c750f"
      },
      "execution_count": 41,
      "outputs": [
        {
          "output_type": "stream",
          "name": "stdout",
          "text": [
            "\n",
            "Word Associations for 'Marrakech':\n",
            "heart: 0.3178001940250397\n",
            "Djemaa: 0.25106748938560486\n",
            "Journey: 0.24039538204669952\n",
            "offers: 0.22481955587863922\n",
            "Atlantic: 0.21774473786354065\n"
          ]
        }
      ]
    },
    {
      "cell_type": "code",
      "source": [],
      "metadata": {
        "id": "fu_VnhnXT2l6"
      },
      "execution_count": null,
      "outputs": []
    }
  ]
}
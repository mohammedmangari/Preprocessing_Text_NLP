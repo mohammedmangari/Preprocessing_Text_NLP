{
  "nbformat": 4,
  "nbformat_minor": 0,
  "metadata": {
    "colab": {
      "provenance": [],
      "authorship_tag": "ABX9TyNSFVPoZu4Zk7E8YFJ8GMkJ",
      "include_colab_link": true
    },
    "kernelspec": {
      "name": "python3",
      "display_name": "Python 3"
    },
    "language_info": {
      "name": "python"
    }
  },
  "cells": [
    {
      "cell_type": "markdown",
      "metadata": {
        "id": "view-in-github",
        "colab_type": "text"
      },
      "source": [
        "<a href=\"https://colab.research.google.com/github/mohammedmangari/Preprocessing_Text_NLP/blob/main/TP2_Word2Vec_NLP.ipynb\" target=\"_parent\"><img src=\"https://colab.research.google.com/assets/colab-badge.svg\" alt=\"Open In Colab\"/></a>"
      ]
    },
    {
      "cell_type": "code",
      "execution_count": 1,
      "metadata": {
        "id": "xbKQNFlKR6Wy"
      },
      "outputs": [],
      "source": [
        "from gensim.models import Word2Vec\n",
        "from nltk.tokenize import sent_tokenize, word_tokenize"
      ]
    },
    {
      "cell_type": "code",
      "source": [
        "import nltk\n",
        "nltk.download('punkt')"
      ],
      "metadata": {
        "colab": {
          "base_uri": "https://localhost:8080/"
        },
        "id": "7WYWpdulUOVF",
        "outputId": "8c92aaf2-6da7-4ab3-c436-6459f4d03ea6"
      },
      "execution_count": 3,
      "outputs": [
        {
          "output_type": "stream",
          "name": "stderr",
          "text": [
            "[nltk_data] Downloading package punkt to /root/nltk_data...\n",
            "[nltk_data]   Unzipping tokenizers/punkt.zip.\n"
          ]
        },
        {
          "output_type": "execute_result",
          "data": {
            "text/plain": [
              "True"
            ]
          },
          "metadata": {},
          "execution_count": 3
        }
      ]
    },
    {
      "cell_type": "code",
      "source": [
        "# Tokenize the text into sentences and words\n",
        "text = \"Morocco, located at the crossroads of Europe and Africa, is a country drenched in history, mystery, and cultural richness. A testament to the ancient civilizations that once flourished here, this North African kingdom boasts a unique blend of Arab, Berber, and European influences. At the heart of Morocco's rich tapestry lies Marrakech, one of its four imperial cities and a vibrant epicenter of tradition and modernity. Geographical Significance Morocco is bordered by the Atlantic Ocean to the west, the Mediterranean Sea to the north, Algeria to the east and southeast, and the vast Sahara desert to the south. Its strategic location has historically made it a sought-after territory and a melting pot of cultures, religions, and trade routes. Marrakech: The Red City Marrakech, often referred to as 'The Red City' due to its distinctive red-hued buildings, stands against the backdrop of the snow-capped Atlas Mountains. Established in the 11th century, it has remained a crucial political, economic, and cultural center of Morocco. Journey through the Medina Marrakech's old town, the Medina, is a UNESCO World Heritage site and a labyrinthine maze of narrow alleys, bustling souks, and historical landmarks. The Djemaa el-Fna Square lies at the heart of the Medina and comes alive every evening with storytellers, musicians, snake charmers, and food stalls offering tantalizing Moroccan delicacies. Palaces and Gardens The city is also home to grand palaces like the Bahia Palace, showcasing intricate Islamic architecture, and the Saadian Tombs, remnants of the Saadian dynasty. The Majorelle Garden, restored by the fashion designer Yves Saint Laurent, is a tranquil oasis of cacti, palm trees, and cobalt blue accents. Modern Marrakech While tradition and history permeate Marrakech, the city is not averse to the modern world. Gueliz, the new town, is brimming with contemporary art galleries, stylish cafes, and chic boutiques, offering a stark contrast to the ancient Medina. Moroccan Cuisine No journey through Morocco and Marrakech would be complete without indulging in the local cuisine. Tagines, couscous, and pastilla are just a few of the many dishes that combine a plethora of flavors and spices like saffron, cumin, and mint. Paired with Moroccan mint tea, the culinary experience is truly unparalleled. In Conclusion Morocco, with Marrakech at its heart, offers travelers an unparalleled journey through time. The convergence of history, culture, architecture, and gastronomy makes it an enthralling destination for those seeking both adventure and reflection. As the Moroccan proverb goes, 'He who does not travel does not know the value of men.' In the case of Morocco and Marrakech, it's not just the value of men, but also the value of time, tradition, and tales that have spanned centuries.\"\n",
        "sentences = sent_tokenize(text)\n",
        "words = [word_tokenize(sentence) for sentence in sentences]"
      ],
      "metadata": {
        "id": "cBbMc9cHT1uy"
      },
      "execution_count": 4,
      "outputs": []
    },
    {
      "cell_type": "code",
      "source": [
        "print(words)"
      ],
      "metadata": {
        "colab": {
          "base_uri": "https://localhost:8080/"
        },
        "id": "vEuDctyBURCQ",
        "outputId": "c2c7ee16-d27f-4d6d-97c3-f04c9e73bb3f"
      },
      "execution_count": 19,
      "outputs": [
        {
          "output_type": "stream",
          "name": "stdout",
          "text": [
            "[['Morocco', ',', 'located', 'at', 'the', 'crossroads', 'of', 'Europe', 'and', 'Africa', ',', 'is', 'a', 'country', 'drenched', 'in', 'history', ',', 'mystery', ',', 'and', 'cultural', 'richness', '.'], ['A', 'testament', 'to', 'the', 'ancient', 'civilizations', 'that', 'once', 'flourished', 'here', ',', 'this', 'North', 'African', 'kingdom', 'boasts', 'a', 'unique', 'blend', 'of', 'Arab', ',', 'Berber', ',', 'and', 'European', 'influences', '.'], ['At', 'the', 'heart', 'of', 'Morocco', \"'s\", 'rich', 'tapestry', 'lies', 'Marrakech', ',', 'one', 'of', 'its', 'four', 'imperial', 'cities', 'and', 'a', 'vibrant', 'epicenter', 'of', 'tradition', 'and', 'modernity', '.'], ['Geographical', 'Significance', 'Morocco', 'is', 'bordered', 'by', 'the', 'Atlantic', 'Ocean', 'to', 'the', 'west', ',', 'the', 'Mediterranean', 'Sea', 'to', 'the', 'north', ',', 'Algeria', 'to', 'the', 'east', 'and', 'southeast', ',', 'and', 'the', 'vast', 'Sahara', 'desert', 'to', 'the', 'south', '.'], ['Its', 'strategic', 'location', 'has', 'historically', 'made', 'it', 'a', 'sought-after', 'territory', 'and', 'a', 'melting', 'pot', 'of', 'cultures', ',', 'religions', ',', 'and', 'trade', 'routes', '.'], ['Marrakech', ':', 'The', 'Red', 'City', 'Marrakech', ',', 'often', 'referred', 'to', 'as', \"'The\", 'Red', 'City', \"'\", 'due', 'to', 'its', 'distinctive', 'red-hued', 'buildings', ',', 'stands', 'against', 'the', 'backdrop', 'of', 'the', 'snow-capped', 'Atlas', 'Mountains', '.'], ['Established', 'in', 'the', '11th', 'century', ',', 'it', 'has', 'remained', 'a', 'crucial', 'political', ',', 'economic', ',', 'and', 'cultural', 'center', 'of', 'Morocco', '.'], ['Journey', 'through', 'the', 'Medina', 'Marrakech', \"'s\", 'old', 'town', ',', 'the', 'Medina', ',', 'is', 'a', 'UNESCO', 'World', 'Heritage', 'site', 'and', 'a', 'labyrinthine', 'maze', 'of', 'narrow', 'alleys', ',', 'bustling', 'souks', ',', 'and', 'historical', 'landmarks', '.'], ['The', 'Djemaa', 'el-Fna', 'Square', 'lies', 'at', 'the', 'heart', 'of', 'the', 'Medina', 'and', 'comes', 'alive', 'every', 'evening', 'with', 'storytellers', ',', 'musicians', ',', 'snake', 'charmers', ',', 'and', 'food', 'stalls', 'offering', 'tantalizing', 'Moroccan', 'delicacies', '.'], ['Palaces', 'and', 'Gardens', 'The', 'city', 'is', 'also', 'home', 'to', 'grand', 'palaces', 'like', 'the', 'Bahia', 'Palace', ',', 'showcasing', 'intricate', 'Islamic', 'architecture', ',', 'and', 'the', 'Saadian', 'Tombs', ',', 'remnants', 'of', 'the', 'Saadian', 'dynasty', '.'], ['The', 'Majorelle', 'Garden', ',', 'restored', 'by', 'the', 'fashion', 'designer', 'Yves', 'Saint', 'Laurent', ',', 'is', 'a', 'tranquil', 'oasis', 'of', 'cacti', ',', 'palm', 'trees', ',', 'and', 'cobalt', 'blue', 'accents', '.'], ['Modern', 'Marrakech', 'While', 'tradition', 'and', 'history', 'permeate', 'Marrakech', ',', 'the', 'city', 'is', 'not', 'averse', 'to', 'the', 'modern', 'world', '.'], ['Gueliz', ',', 'the', 'new', 'town', ',', 'is', 'brimming', 'with', 'contemporary', 'art', 'galleries', ',', 'stylish', 'cafes', ',', 'and', 'chic', 'boutiques', ',', 'offering', 'a', 'stark', 'contrast', 'to', 'the', 'ancient', 'Medina', '.'], ['Moroccan', 'Cuisine', 'No', 'journey', 'through', 'Morocco', 'and', 'Marrakech', 'would', 'be', 'complete', 'without', 'indulging', 'in', 'the', 'local', 'cuisine', '.'], ['Tagines', ',', 'couscous', ',', 'and', 'pastilla', 'are', 'just', 'a', 'few', 'of', 'the', 'many', 'dishes', 'that', 'combine', 'a', 'plethora', 'of', 'flavors', 'and', 'spices', 'like', 'saffron', ',', 'cumin', ',', 'and', 'mint', '.'], ['Paired', 'with', 'Moroccan', 'mint', 'tea', ',', 'the', 'culinary', 'experience', 'is', 'truly', 'unparalleled', '.'], ['In', 'Conclusion', 'Morocco', ',', 'with', 'Marrakech', 'at', 'its', 'heart', ',', 'offers', 'travelers', 'an', 'unparalleled', 'journey', 'through', 'time', '.'], ['The', 'convergence', 'of', 'history', ',', 'culture', ',', 'architecture', ',', 'and', 'gastronomy', 'makes', 'it', 'an', 'enthralling', 'destination', 'for', 'those', 'seeking', 'both', 'adventure', 'and', 'reflection', '.'], ['As', 'the', 'Moroccan', 'proverb', 'goes', ',', \"'He\", 'who', 'does', 'not', 'travel', 'does', 'not', 'know', 'the', 'value', 'of', 'men', '.', \"'\"], ['In', 'the', 'case', 'of', 'Morocco', 'and', 'Marrakech', ',', 'it', \"'s\", 'not', 'just', 'the', 'value', 'of', 'men', ',', 'but', 'also', 'the', 'value', 'of', 'time', ',', 'tradition', ',', 'and', 'tales', 'that', 'have', 'spanned', 'centuries', '.']]\n"
          ]
        }
      ]
    },
    {
      "cell_type": "code",
      "source": [
        "# Train a Word2Vec model\n",
        "model = Word2Vec(words, vector_size=100, window=5, min_count=1, sg=0)"
      ],
      "metadata": {
        "id": "1ya3oJwnUZsk"
      },
      "execution_count": 7,
      "outputs": []
    },
    {
      "cell_type": "code",
      "source": [
        "import numpy as np\n",
        "from sklearn.metrics.pairwise import cosine_similarity\n",
        "\n",
        "# Word Similarity Matrix\n",
        "words_in_vocab = model.wv.index_to_key\n",
        "num_words = len(words_in_vocab)\n",
        "\n",
        "similarity_matrix = np.zeros((num_words, num_words))\n",
        "for i in range(num_words):\n",
        "    for j in range(num_words):\n",
        "        similarity_matrix[i][j] = model.wv.similarity(words_in_vocab[i], words_in_vocab[j])\n",
        "\n",
        "# Display the Word Similarity Matrix\n",
        "print(\"\\nWord Similarity Matrix:\")\n",
        "print(similarity_matrix)"
      ],
      "metadata": {
        "colab": {
          "base_uri": "https://localhost:8080/"
        },
        "id": "hVoV8w2NU98D",
        "outputId": "e4cbca1e-db2f-4047-c8c6-2a6f1835fb5b"
      },
      "execution_count": 16,
      "outputs": [
        {
          "output_type": "stream",
          "name": "stdout",
          "text": [
            "\n",
            "Word Similarity Matrix:\n",
            "[[ 1.          0.02855737 -0.00100433 ...  0.09888193  0.09010097\n",
            "  -0.10539532]\n",
            " [ 0.02855737  0.99999994 -0.00447893 ... -0.1295608   0.06134081\n",
            "   0.08939511]\n",
            " [-0.00100433 -0.00447893  1.         ... -0.18689393  0.02819459\n",
            "  -0.07021549]\n",
            " ...\n",
            " [ 0.09888193 -0.1295608  -0.18689393 ...  1.         -0.02035087\n",
            "  -0.06275225]\n",
            " [ 0.09010097  0.06134081  0.02819459 ... -0.02035087  1.\n",
            "   0.03673356]\n",
            " [-0.10539532  0.08939511 -0.07021549 ... -0.06275225  0.03673356\n",
            "   1.        ]]\n"
          ]
        }
      ]
    },
    {
      "cell_type": "code",
      "source": [
        "# Find word associations\n",
        "word_associations = model.wv.most_similar(\"Morocco\", topn=5)\n",
        "print(\"Word Associations for 'Morocco':\")\n",
        "for word, score in word_associations:\n",
        "    print(f\"{word}: {score}\")\n"
      ],
      "metadata": {
        "colab": {
          "base_uri": "https://localhost:8080/"
        },
        "id": "Ghrrve6QUc0h",
        "outputId": "e8eefa8a-e21e-4221-e1e5-59118ed34bb8"
      },
      "execution_count": 17,
      "outputs": [
        {
          "output_type": "stream",
          "name": "stdout",
          "text": [
            "Word Associations for 'Morocco':\n",
            "tales: 0.3150328993797302\n",
            "kingdom: 0.2580558657646179\n",
            "referred: 0.25056588649749756\n",
            "Garden: 0.2463482916355133\n",
            "Tagines: 0.23579131066799164\n"
          ]
        }
      ]
    },
    {
      "cell_type": "code",
      "source": [
        "# Word Similarity Matrix for 'Marrakech'\n",
        "words_in_vocab = model.wv.index_to_key\n",
        "num_words = len(words_in_vocab)\n",
        "\n",
        "similarity_matrix = np.zeros((num_words, num_words))\n",
        "word_index = words_in_vocab.index(\"Marrakech\")\n",
        "\n",
        "for i in range(num_words):\n",
        "    for j in range(num_words):\n",
        "        similarity_matrix[i][j] = model.wv.similarity(words_in_vocab[i], words_in_vocab[j])\n",
        "\n",
        "# Display the Word Similarity Matrix for 'Marrakech'\n",
        "print(\"\\nWord Similarity Matrix for 'Marrakech':\")\n",
        "print(similarity_matrix[word_index])"
      ],
      "metadata": {
        "colab": {
          "base_uri": "https://localhost:8080/"
        },
        "id": "RJfYaBadVgGV",
        "outputId": "cdf2ba95-f963-482f-b3e6-c51c29fbdd48"
      },
      "execution_count": 18,
      "outputs": [
        {
          "output_type": "stream",
          "name": "stdout",
          "text": [
            "\n",
            "Word Similarity Matrix for 'Marrakech':\n",
            "[ 1.20582409e-01 -1.00358680e-01  1.60474125e-02 -8.69033951e-03\n",
            " -1.74567346e-02 -3.78185287e-02  1.41841499e-02  1.00000000e+00\n",
            " -1.35174453e-01 -8.56996179e-02  1.18175894e-01  1.30967706e-01\n",
            " -3.28914300e-02 -2.48331614e-02  1.06126666e-01  9.26086679e-02\n",
            "  1.88058630e-01  1.29945904e-01  8.59693736e-02  3.17800194e-01\n",
            " -3.59861255e-02 -1.49058163e-01  1.54398298e-02  8.30524787e-02\n",
            "  4.79641557e-02 -3.53487022e-02  1.07292712e-01 -2.78217010e-02\n",
            "  5.26688211e-02  3.87566276e-02  6.78834617e-02  1.28404334e-01\n",
            "  5.60325608e-02 -1.16877563e-01 -7.48904701e-03  8.09536353e-02\n",
            " -1.95114519e-02  2.12845504e-01 -1.09980069e-01 -1.24025017e-01\n",
            " -6.01616614e-02 -8.19992274e-02 -5.24814725e-02 -1.22159543e-02\n",
            "  5.76477721e-02 -1.05943836e-01 -5.79481386e-03 -2.63913982e-02\n",
            "  4.66886088e-02  4.82601188e-02 -1.13700265e-02 -4.83722752e-03\n",
            "  4.57655825e-02  5.74092269e-02  8.92328620e-02  1.78623468e-01\n",
            " -1.04077540e-01  4.70146015e-02  1.26432076e-01  2.05684632e-01\n",
            "  1.20591022e-01  1.33140087e-01 -2.01688539e-02 -6.83016032e-02\n",
            "  2.00669125e-01 -5.40325269e-02  1.57353371e-01  6.54724836e-02\n",
            " -5.80115127e-04  2.40395352e-01 -1.71590764e-02 -8.84133279e-02\n",
            " -1.12137370e-01 -5.54066636e-02 -6.94129318e-02 -7.30268210e-02\n",
            " -1.42945394e-01 -1.30868584e-01  1.54353023e-01 -8.14010296e-03\n",
            " -1.57797039e-01 -1.43907964e-01  3.43209133e-02  4.76357080e-02\n",
            "  1.64743260e-01  1.26656011e-01  2.97694579e-02  2.17744708e-01\n",
            "  3.30503248e-02  3.99015434e-02  9.82833356e-02  1.30497381e-01\n",
            "  1.17816702e-01 -2.63127927e-02  8.99800435e-02 -3.50948274e-02\n",
            "  1.52470255e-02 -1.49286846e-02 -2.26494253e-01  6.69662878e-02\n",
            "  8.79659783e-03  1.08525544e-01  1.22613110e-01 -2.22449377e-03\n",
            " -3.02228387e-02  1.40059022e-02 -4.01724987e-02 -8.18963498e-02\n",
            "  6.28620163e-02 -4.23183218e-02 -4.82292399e-02  5.41441180e-02\n",
            " -6.37697726e-02  6.80400133e-02  1.49862707e-01 -6.43369704e-02\n",
            "  7.40244165e-02  6.62419759e-03 -8.93371105e-02  3.41985971e-02\n",
            " -2.53904819e-01 -5.05165271e-02 -1.74171582e-01 -8.35511163e-02\n",
            "  1.33179441e-01 -9.13274512e-02 -1.69495746e-01 -7.35861063e-02\n",
            "  1.49774864e-01  3.11197899e-02 -1.36812612e-01  1.04672305e-01\n",
            "  3.40790430e-04  6.86312392e-02 -9.41145048e-02  1.05027914e-01\n",
            "  8.36839341e-03  9.61870626e-02 -1.24207899e-01 -6.99054226e-02\n",
            " -1.50488373e-02 -4.34303507e-02  1.04625337e-01  7.60533512e-02\n",
            "  1.36802614e-01  1.08300015e-01  6.43047020e-02  7.50557929e-02\n",
            " -1.37196377e-01  2.00305730e-02  8.14381912e-02  5.41309789e-02\n",
            "  1.45630822e-01 -5.96148223e-02  1.11360215e-01 -1.44222915e-01\n",
            "  7.50230700e-02 -1.09258831e-01 -5.97669147e-02 -2.92196780e-01\n",
            " -8.88287500e-02 -1.63236842e-01 -1.84312657e-01  1.14131361e-01\n",
            " -3.25727537e-02 -1.63020670e-01  3.78373265e-02 -9.47142765e-03\n",
            " -2.25767978e-02  1.38904229e-01  5.32238074e-02  1.87145662e-03\n",
            " -2.90249567e-02  1.16235495e-01  2.59183031e-02  9.57383141e-02\n",
            " -1.53268814e-01  1.74950194e-02 -1.10277578e-01 -1.08320631e-01\n",
            "  1.38079245e-02 -5.93437813e-02 -2.68025454e-02  9.58068892e-02\n",
            "  3.05751059e-02 -1.31481746e-02 -7.69685507e-02  6.58657253e-02\n",
            " -8.34018588e-02 -4.41777483e-02  1.46958306e-01  2.00359553e-01\n",
            "  1.38052665e-02  1.83020867e-02 -8.55704863e-03  9.94873494e-02\n",
            "  2.24355664e-02 -1.16173394e-01 -5.89268506e-02  7.69236982e-02\n",
            "  4.90208641e-02  1.39766246e-01  2.24819541e-01  4.22187001e-02\n",
            " -1.60426676e-01  1.32102147e-01  3.43016312e-02 -3.74636874e-02\n",
            "  1.51539758e-01 -9.10025388e-02  1.06546871e-01  9.16601643e-02\n",
            " -1.17695190e-01 -9.58216935e-02  7.66047314e-02  1.50572881e-01\n",
            "  2.94798985e-02  9.75262672e-02  4.60410826e-02  6.11730888e-02\n",
            "  1.69880614e-01 -1.92830056e-01 -1.13926090e-01  1.68250680e-01\n",
            "  7.00094327e-02 -5.61609678e-02  5.40904030e-02  5.68367206e-02\n",
            "  8.55149776e-02  2.51067489e-01  7.51653090e-02 -1.77272871e-01\n",
            "  1.91258058e-01  8.89398754e-02 -1.01858862e-01 -4.19961885e-02\n",
            "  1.83781534e-02 -6.71225339e-02  3.90618071e-02 -4.02605124e-02\n",
            "  7.15427846e-02 -1.36422038e-01  7.22764954e-02 -8.34258795e-02\n",
            " -2.48561502e-01 -1.24862991e-01  4.44175526e-02  3.80096138e-02\n",
            "  4.43044603e-02 -4.26464677e-02 -9.14119706e-02 -1.09817870e-02\n",
            "  3.02280076e-02 -9.47550684e-03 -8.59636739e-02 -4.17400338e-02\n",
            " -1.05321005e-01 -1.03317443e-02  1.14756636e-01 -4.27658930e-02\n",
            "  1.87280148e-01 -1.47010967e-01  1.40655031e-02 -2.02384725e-01\n",
            "  6.34247363e-02  7.71113932e-02  8.18248838e-03  1.17522374e-01]\n"
          ]
        }
      ]
    },
    {
      "cell_type": "code",
      "source": [
        "word_associations = model.wv.most_similar(\"Marrakech\", topn=5)\n",
        "print(\"\\nWord Associations for 'Marrakech':\")\n",
        "for word, score in word_associations:\n",
        "    print(f\"{word}: {score}\")"
      ],
      "metadata": {
        "colab": {
          "base_uri": "https://localhost:8080/"
        },
        "id": "2xpwGYjTUpzv",
        "outputId": "5f0a4848-0248-4bd9-bf77-2d561b627525"
      },
      "execution_count": 15,
      "outputs": [
        {
          "output_type": "stream",
          "name": "stdout",
          "text": [
            "\n",
            "Word Associations for 'Marrakech':\n",
            "heart: 0.3178001940250397\n",
            "Djemaa: 0.25106748938560486\n",
            "Journey: 0.24039538204669952\n",
            "offers: 0.22481955587863922\n",
            "Atlantic: 0.21774473786354065\n"
          ]
        }
      ]
    },
    {
      "cell_type": "code",
      "source": [],
      "metadata": {
        "id": "fu_VnhnXT2l6"
      },
      "execution_count": null,
      "outputs": []
    }
  ]
}